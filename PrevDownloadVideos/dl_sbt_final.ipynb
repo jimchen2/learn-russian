{
 "cells": [
  {
   "cell_type": "markdown",
   "metadata": {
    "id": "0i_r33ApBnM-"
   },
   "source": [
    "# **Set Up environment**"
   ]
  },
  {
   "cell_type": "code",
   "execution_count": 1,
   "metadata": {
    "colab": {
     "base_uri": "https://localhost:8080/"
    },
    "id": "RYo7bByfMoV6",
    "outputId": "e3671ba0-25d8-43be-e5ea-2b6ae577a72b"
   },
   "outputs": [],
   "source": [
    "# !apt install -y nvidia-cuda-toolkit\n",
    "# !pip install -U sentencepiece\n",
    "# !pip install -U argostranslate yt-dlp ffmpeg \n",
    "# !pip install openai-whisper\n",
    "# !pip install -U argostranslate"
   ]
  },
  {
   "cell_type": "code",
   "execution_count": 2,
   "metadata": {
    "id": "fwxsjSzTMq8A"
   },
   "outputs": [],
   "source": [
    "import argostranslate.package\n",
    "import argostranslate.translate\n",
    "import datetime\n",
    "import os\n",
    "import math\n",
    "import threading\n",
    "from queue import Queue\n",
    "import subprocess\n",
    "import whisper\n",
    "from moviepy.editor import VideoFileClip, TextClip, concatenate_videoclips\n",
    "from moviepy.video.io.ffmpeg_writer import FFMPEG_VideoWriter"
   ]
  },
  {
   "cell_type": "markdown",
   "metadata": {
    "id": "rboPSKLXBYoj"
   },
   "source": [
    "## **Set Up Language**"
   ]
  },
  {
   "cell_type": "code",
   "execution_count": 3,
   "metadata": {
    "id": "r5o9-yRQBH8q"
   },
   "outputs": [],
   "source": [
    "from_code = \"ru\"\n",
    "to_code = \"en\"\n",
    "\n",
    "# Download and install Argos Translate package\n",
    "argostranslate.package.update_package_index()\n",
    "available_packages = argostranslate.package.get_available_packages()\n",
    "package_to_install = next(\n",
    "    filter(\n",
    "        lambda x: x.from_code == from_code and x.to_code == to_code, available_packages\n",
    "    )\n",
    ")\n",
    "argostranslate.package.install_from_path(package_to_install.download())"
   ]
  },
  {
   "cell_type": "markdown",
   "metadata": {
    "id": "A3-_pif0Pjmj"
   },
   "source": [
    "## **Preparation Finished start Coding Below**"
   ]
  },
  {
   "cell_type": "code",
   "execution_count": 4,
   "metadata": {
    "id": "TGlyceeCBLI0"
   },
   "outputs": [],
   "source": [
    "def download_video(url, output_path, num_threads='10000'):\n",
    "  !yt-dlp -N 10 -f bestvideo[ext=mp4]+bestaudio[ext=m4a]/best[ext=mp4]/best \"$url\" -o \"$output_path\""
   ]
  },
  {
   "cell_type": "code",
   "execution_count": 5,
   "metadata": {
    "id": "yMOZLYlpODvc"
   },
   "outputs": [],
   "source": [
    "def transcribe_audio(input_file_path):\n",
    "    !whisper --language ru --output_format vtt --max_words_per_line 8 --word_timestamps True $input_file_path"
   ]
  },
  {
   "cell_type": "code",
   "execution_count": 6,
   "metadata": {
    "id": "cLA49RbPMm7m"
   },
   "outputs": [],
   "source": [
    "def translate_word(word):\n",
    "    try:\n",
    "        translation = argostranslate.translate.translate(word, \"ru\", \"en\")\n",
    "        print(translation)\n",
    "        return translation\n",
    "    except Exception as e:\n",
    "        # print(f\"Error during translation of '{word}': {e}\")\n",
    "        return word\n",
    "\n",
    "def translate_line(line, index, output_queue):\n",
    "    # Handle lines that do not require translation directly\n",
    "    if '-->' in line or line.strip().isdigit() or not line.strip():\n",
    "        output_queue.put((index, line))\n",
    "    else:\n",
    "        # Translate the line word by word and combine\n",
    "        words = line.split()\n",
    "        translated_words = [translate_word(word) for word in words]\n",
    "        translated_line = ' '.join(translated_words)\n",
    "        # Format combined line with original and translated text\n",
    "        combined_line = line.strip() + '\\n'+ translated_line + '\\n'\n",
    "        output_queue.put((index, combined_line))\n",
    "\n",
    "def process_lines(lines):\n",
    "    output_queue = Queue()\n",
    "    threads = []\n",
    "\n",
    "    for index, line in enumerate(lines):\n",
    "        thread = threading.Thread(target=translate_line, args=(line, index, output_queue))\n",
    "        thread.start()\n",
    "        threads.append(thread)\n",
    "\n",
    "    for thread in threads:\n",
    "        thread.join()\n",
    "\n",
    "    # Collect and sort the results based on the original line order\n",
    "    translated_lines = [None] * len(lines)\n",
    "    while not output_queue.empty():\n",
    "        index, translation = output_queue.get()\n",
    "        translated_lines[index] = translation\n",
    "\n",
    "    return translated_lines\n",
    "\n",
    "def process_vtt_in_chunks(filepath, newfilepath, chunk_size=50):\n",
    "    base, ext = os.path.splitext(filepath)\n",
    "    with open(filepath, 'r', encoding='utf-8') as file:\n",
    "        lines = file.readlines()\n",
    "\n",
    "    with open(newfilepath, 'w', encoding='utf-8') as new_file:\n",
    "        for i in range(0, len(lines), chunk_size):\n",
    "            chunk = lines[i:i+chunk_size]\n",
    "            processed_lines = process_lines(chunk)\n",
    "            new_file.writelines(processed_lines)\n"
   ]
  },
  {
   "cell_type": "code",
   "execution_count": 7,
   "metadata": {
    "id": "p7qQ-QwFLnhQ"
   },
   "outputs": [],
   "source": [
    "def adjust_timing(lines):\n",
    "    for i in range(len(lines)-1):\n",
    "        if '-->' in lines[i] and '-->' in lines[i + 1]:\n",
    "            current_line_timing, current_line_text = lines[i].split('\\n', 1)\n",
    "            start_time_next_line, _ = lines[i + 1].split('\\n', 1)[0].split('-->', 1)\n",
    "            new_current_line = current_line_timing.split('-->', 1)[0] + '--> ' + start_time_next_line + '\\n' + current_line_text\n",
    "            lines[i] = new_current_line\n",
    "    return lines\n",
    "\n",
    "def adjust_vtt_timing(input_filepath, output_filepath):\n",
    "    with open(input_filepath, 'r', encoding='utf-8') as input_file:\n",
    "        content = input_file.read()\n",
    "    lines = content.split('\\n\\n')\n",
    "    new_lines = adjust_timing(lines)\n",
    "    new_content = '\\n\\n'.join(new_lines)\n",
    "    with open(output_filepath, 'w', encoding='utf-8') as output_file:\n",
    "        output_file.write(new_content)"
   ]
  },
  {
   "cell_type": "markdown",
   "metadata": {
    "id": "7Wj-FQzSSlBc"
   },
   "source": [
    "# **Coding Finished Now specify things**"
   ]
  },
  {
   "cell_type": "code",
   "execution_count": 8,
   "metadata": {
    "id": "-HNNWyvrCX01"
   },
   "outputs": [],
   "source": [
    "def download(url):\n",
    "    timestamp = datetime.datetime.now().strftime(\"%Y%m%d%H%M%S\")\n",
    "\n",
    "    mp4_output = f\"{timestamp}.mp4\"\n",
    "    vtt_output = f\"{timestamp}.vtt\"\n",
    "    toadjust_output = f\"toadjust_{timestamp}.vtt\"\n",
    "    adjusted_output = f\"new_{timestamp}.vtt\"\n",
    "    output_video_path = f\"final_{timestamp}.mp4\"\n",
    "\n",
    "    download_video(url,mp4_output)\n",
    "    transcribe_audio(mp4_output)\n",
    "    process_vtt_in_chunks(vtt_output,toadjust_output)\n",
    "    adjust_vtt_timing(toadjust_output,adjusted_output)\n",
    "    ! /usr/local/bin/ffmpeg -i \"$mp4_output\" -vf \"subtitles=$adjusted_output:force_style='Fontname=Roboto,OutlineColour=&H40000000,BorderStyle=3'\" -c:a copy \"$output_video_path\"\n",
    "    ! dropbox-uploader upload \"$output_video_path\" /\n",
    "    !rm *2024*"
   ]
  },
  {
   "cell_type": "code",
   "execution_count": 9,
   "metadata": {
    "id": "Xq1NSFKWS8-q"
   },
   "outputs": [],
   "source": [
    "urls = [\n",
    "    \"https://www.youtube.com/watch?v=2B42OubTUd0\",\n",
    "    \"https://www.youtube.com/watch?v=tsbg0eiKU1I\",\n",
    "    \"https://www.1tv.ru/news/issue/2023-01-01/21:00#1\",\n",
    "    \"https://www.1tv.ru/news/issue/2023-01-02/21:00#1\",\n",
    "    \"https://www.1tv.ru/news/issue/2023-01-03/21:00#1\",\n",
    "    \"https://www.1tv.ru/news/issue/2023-01-04/21:00#1\",\n",
    "    \"https://www.1tv.ru/news/issue/2023-01-05/21:00#1\",\n",
    "    \"https://www.1tv.ru/news/issue/2023-01-06/21:00#1\",\n",
    "    \"https://www.1tv.ru/news/issue/2023-01-07/21:00#1\",\n",
    "    \"https://www.1tv.ru/news/issue/2023-01-08/21:00#1\",\n",
    "    \"https://www.1tv.ru/news/issue/2023-01-09/21:00#1\",\n",
    "    \"https://www.1tv.ru/news/issue/2023-01-10/21:00#1\",\n",
    "    \"https://www.1tv.ru/news/issue/2023-01-11/21:00#1\",\n",
    "    \"https://www.1tv.ru/news/issue/2023-01-12/21:00#1\",\n",
    "    \"https://www.1tv.ru/news/issue/2023-01-13/21:00#1\",\n",
    "    \"https://www.1tv.ru/news/issue/2023-01-14/21:00#1\",\n",
    "    \"https://www.1tv.ru/news/issue/2023-01-15/21:00#1\",\n",
    "    \"https://www.1tv.ru/news/issue/2023-01-16/21:00#1\",\n",
    "    \"https://www.1tv.ru/news/issue/2023-01-17/21:00#1\",\n",
    "    \"https://www.1tv.ru/news/issue/2023-01-18/21:00#1\",\n",
    "    \"https://www.1tv.ru/news/issue/2023-01-19/21:00#1\",\n",
    "    \"https://www.1tv.ru/news/issue/2023-01-20/21:00#1\",\n",
    "    \"https://www.1tv.ru/news/issue/2023-01-21/21:00#1\",\n",
    "    \"https://www.1tv.ru/news/issue/2023-01-22/21:00#1\",\n",
    "    \"https://www.1tv.ru/news/issue/2023-01-23/21:00#1\",\n",
    "    \"https://www.1tv.ru/news/issue/2023-01-24/21:00#1\",\n",
    "    \"https://www.1tv.ru/news/issue/2023-01-25/21:00#1\",\n",
    "    \"https://www.1tv.ru/news/issue/2023-01-26/21:00#1\",\n",
    "    \"https://www.1tv.ru/news/issue/2023-01-27/21:00#1\",\n",
    "    \"https://www.1tv.ru/news/issue/2023-01-28/21:00#1\",\n",
    "    \"https://www.1tv.ru/news/issue/2023-01-29/21:00#1\",\n",
    "    \"https://www.1tv.ru/news/issue/2023-01-30/21:00#1\",\n",
    "    \"https://www.1tv.ru/news/issue/2023-01-31/21:00#1\",\n",
    "    \"https://www.1tv.ru/news/issue/2023-02-01/21:00#1\",\n",
    "    \"https://www.1tv.ru/news/issue/2023-02-02/21:00#1\",\n",
    "    \"https://www.1tv.ru/news/issue/2023-02-03/21:00#1\",\n",
    "    \"https://www.1tv.ru/news/issue/2023-02-04/21:00#1\",\n",
    "    \"https://www.1tv.ru/news/issue/2023-02-05/21:00#1\",\n",
    "    \"https://www.1tv.ru/news/issue/2023-02-06/21:00#1\",\n",
    "    \"https://www.1tv.ru/news/issue/2023-02-07/21:00#1\",\n",
    "    \"https://www.1tv.ru/news/issue/2023-02-08/21:00#1\",\n",
    "    \"https://www.1tv.ru/news/issue/2023-02-09/21:00#1\",\n",
    "    \"https://www.1tv.ru/news/issue/2023-02-10/21:00#1\",\n",
    "    \"https://www.1tv.ru/news/issue/2023-02-11/21:00#1\",\n",
    "    \"https://www.1tv.ru/news/issue/2023-02-12/21:00#1\",\n",
    "    \"https://www.1tv.ru/news/issue/2023-02-13/21:00#1\",\n",
    "    \"https://www.1tv.ru/news/issue/2023-02-14/21:00#1\",\n",
    "    \"https://www.1tv.ru/news/issue/2023-02-15/21:00#1\",\n",
    "    \"https://www.1tv.ru/news/issue/2023-02-16/21:00#1\",\n",
    "    \"https://www.1tv.ru/news/issue/2023-02-17/21:00#1\",\n",
    "    \"https://www.1tv.ru/news/issue/2023-02-18/21:00#1\",\n",
    "    \"https://www.1tv.ru/news/issue/2023-02-19/21:00#1\",\n",
    "    \"https://www.1tv.ru/news/issue/2023-02-20/21:00#1\",\n",
    "    \"https://www.1tv.ru/news/issue/2023-02-21/21:00#1\",\n",
    "    \"https://www.1tv.ru/news/issue/2023-02-22/21:00#1\",\n",
    "    \"https://www.1tv.ru/news/issue/2023-02-23/21:00#1\",\n",
    "    \"https://www.1tv.ru/news/issue/2023-02-24/21:00#1\",\n",
    "    \"https://www.1tv.ru/news/issue/2023-02-25/21:00#1\",\n",
    "    \"https://www.1tv.ru/news/issue/2023-02-26/21:00#1\",\n",
    "    \"https://www.1tv.ru/news/issue/2023-02-27/21:00#1\",\n",
    "    \"https://www.1tv.ru/news/issue/2023-02-28/21:00#1\"\n",
    "]\n"
   ]
  },
  {
   "cell_type": "markdown",
   "metadata": {
    "id": "QM1OzagWivlo"
   },
   "source": [
    "# **RUN IT**"
   ]
  },
  {
   "cell_type": "code",
   "execution_count": null,
   "metadata": {
    "colab": {
     "base_uri": "https://localhost:8080/"
    },
    "id": "tDJb3vD5VkSq",
    "outputId": "6a111ab7-46cc-4565-e635-6d3b8a0ae78a"
   },
   "outputs": [
    {
     "name": "stdout",
     "output_type": "stream",
     "text": [
      "[youtube] Extracting URL: https://www.youtube.com/watch?v=2B42OubTUd0\n",
      "[youtube] 2B42OubTUd0: Downloading webpage\n",
      "[youtube] 2B42OubTUd0: Downloading ios player API JSON\n",
      "[youtube] 2B42OubTUd0: Downloading android player API JSON\n",
      "[youtube] 2B42OubTUd0: Downloading m3u8 information\n",
      "[info] 2B42OubTUd0: Downloading 1 format(s): 616+140\n",
      "[hlsnative] Downloading m3u8 manifest\n",
      "[hlsnative] Total fragments: 39\n",
      "[download] Destination: 20240211210810.f616.mp4\n",
      "\u001b[K[download] 100% of  104.18MiB in \u001b[1;37m00:00:01\u001b[0m at \u001b[0;32m101.86MiB/s\u001b[0m;33mUnknown\u001b[0m (frag 40/39)\n",
      "[download] Destination: 20240211210810.f140.m4a\n",
      "\u001b[K[download] 100% of    3.27MiB in \u001b[1;37m00:00:00\u001b[0m at \u001b[0;32m114.92MiB/s\u001b[0m33m00:00\u001b[0m0m\n",
      "[Merger] Merging formats into \"20240211210810.mp4\"\n",
      "Deleting original file 20240211210810.f140.m4a (pass -k to keep)\n",
      "Deleting original file 20240211210810.f616.mp4 (pass -k to keep)\n",
      "/opt/conda/lib/python3.10/site-packages/torch/cuda/__init__.py:546: UserWarning: Can't initialize NVML\n",
      "  warnings.warn(\"Can't initialize NVML\")\n",
      "[00:00.000 --> 00:29.980]  Семирная сеть\n"
     ]
    }
   ],
   "source": [
    "# Loop through each URL and download\n",
    "for url in urls:\n",
    "    download(url)"
   ]
  },
  {
   "cell_type": "code",
   "execution_count": null,
   "metadata": {},
   "outputs": [],
   "source": []
  }
 ],
 "metadata": {
  "accelerator": "GPU",
  "colab": {
   "gpuType": "A100",
   "provenance": []
  },
  "kernelspec": {
   "display_name": "Python 3 (ipykernel)",
   "language": "python",
   "name": "python3"
  },
  "language_info": {
   "codemirror_mode": {
    "name": "ipython",
    "version": 3
   },
   "file_extension": ".py",
   "mimetype": "text/x-python",
   "name": "python",
   "nbconvert_exporter": "python",
   "pygments_lexer": "ipython3",
   "version": "3.10.11"
  }
 },
 "nbformat": 4,
 "nbformat_minor": 4
}
