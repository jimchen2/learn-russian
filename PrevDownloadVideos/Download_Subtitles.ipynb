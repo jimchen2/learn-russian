{
  "nbformat": 4,
  "nbformat_minor": 0,
  "metadata": {
    "colab": {
      "provenance": [],
      "gpuType": "A100",
      "authorship_tag": "ABX9TyNcqQO+s3bACvDVc+rVY3Rg",
      "include_colab_link": true
    },
    "kernelspec": {
      "name": "python3",
      "display_name": "Python 3"
    },
    "language_info": {
      "name": "python"
    },
    "accelerator": "GPU"
  },
  "cells": [
    {
      "cell_type": "markdown",
      "metadata": {
        "id": "view-in-github",
        "colab_type": "text"
      },
      "source": [
        "<a href=\"https://colab.research.google.com/github/jimchen2/util-scripts/blob/master/Download_Subtitles.ipynb\" target=\"_parent\"><img src=\"https://colab.research.google.com/assets/colab-badge.svg\" alt=\"Open In Colab\"/></a>"
      ]
    },
    {
      "cell_type": "markdown",
      "source": [
        "# **Set Up environment**"
      ],
      "metadata": {
        "id": "0i_r33ApBnM-"
      }
    },
    {
      "cell_type": "code",
      "source": [
        "from google.colab import drive\n",
        "drive.mount(\"/content/gdrive\", force_remount=True)"
      ],
      "metadata": {
        "colab": {
          "base_uri": "https://localhost:8080/"
        },
        "id": "pGJ55ewzPiqe",
        "outputId": "96a0069e-2298-48e8-8979-45beaf3958dc"
      },
      "execution_count": 1,
      "outputs": [
        {
          "output_type": "stream",
          "name": "stdout",
          "text": [
            "Mounted at /content/gdrive\n"
          ]
        }
      ]
    },
    {
      "cell_type": "code",
      "source": [
        "!apt install nvidia-cuda-toolkit\n",
        "!pip install -U openai-whisper argostranslate yt-dlp ffmpeg\n"
      ],
      "metadata": {
        "id": "RYo7bByfMoV6",
        "colab": {
          "base_uri": "https://localhost:8080/"
        },
        "outputId": "be52ef00-ba8b-4c60-d1f2-d79d6cbb77f7"
      },
      "execution_count": 2,
      "outputs": [
        {
          "output_type": "stream",
          "name": "stdout",
          "text": [
            "Reading package lists... Done\n",
            "Building dependency tree... Done\n",
            "Reading state information... Done\n",
            "nvidia-cuda-toolkit is already the newest version (11.5.1-1ubuntu1).\n",
            "0 upgraded, 0 newly installed, 0 to remove and 32 not upgraded.\n",
            "Requirement already satisfied: openai-whisper in /usr/local/lib/python3.10/dist-packages (20231117)\n",
            "Requirement already satisfied: argostranslate in /usr/local/lib/python3.10/dist-packages (1.9.1)\n",
            "Requirement already satisfied: yt-dlp in /usr/local/lib/python3.10/dist-packages (2023.12.30)\n",
            "Requirement already satisfied: ffmpeg in /usr/local/lib/python3.10/dist-packages (1.4)\n",
            "Requirement already satisfied: triton<3,>=2.0.0 in /usr/local/lib/python3.10/dist-packages (from openai-whisper) (2.1.0)\n",
            "Requirement already satisfied: numba in /usr/local/lib/python3.10/dist-packages (from openai-whisper) (0.58.1)\n",
            "Requirement already satisfied: numpy in /usr/local/lib/python3.10/dist-packages (from openai-whisper) (1.23.5)\n",
            "Requirement already satisfied: torch in /usr/local/lib/python3.10/dist-packages (from openai-whisper) (2.1.0+cu121)\n",
            "Requirement already satisfied: tqdm in /usr/local/lib/python3.10/dist-packages (from openai-whisper) (4.66.1)\n",
            "Requirement already satisfied: more-itertools in /usr/local/lib/python3.10/dist-packages (from openai-whisper) (10.1.0)\n",
            "Requirement already satisfied: tiktoken in /usr/local/lib/python3.10/dist-packages (from openai-whisper) (0.6.0)\n",
            "Requirement already satisfied: ctranslate2==3.20.0 in /usr/local/lib/python3.10/dist-packages (from argostranslate) (3.20.0)\n",
            "Requirement already satisfied: sentencepiece==0.1.99 in /usr/local/lib/python3.10/dist-packages (from argostranslate) (0.1.99)\n",
            "Requirement already satisfied: stanza==1.1.1 in /usr/local/lib/python3.10/dist-packages (from argostranslate) (1.1.1)\n",
            "Requirement already satisfied: packaging in /usr/local/lib/python3.10/dist-packages (from argostranslate) (23.2)\n",
            "Requirement already satisfied: sacremoses==0.0.53 in /usr/local/lib/python3.10/dist-packages (from argostranslate) (0.0.53)\n",
            "Requirement already satisfied: pyyaml<7,>=5.3 in /usr/local/lib/python3.10/dist-packages (from ctranslate2==3.20.0->argostranslate) (6.0.1)\n",
            "Requirement already satisfied: regex in /usr/local/lib/python3.10/dist-packages (from sacremoses==0.0.53->argostranslate) (2023.12.25)\n",
            "Requirement already satisfied: six in /usr/local/lib/python3.10/dist-packages (from sacremoses==0.0.53->argostranslate) (1.16.0)\n",
            "Requirement already satisfied: click in /usr/local/lib/python3.10/dist-packages (from sacremoses==0.0.53->argostranslate) (8.1.7)\n",
            "Requirement already satisfied: joblib in /usr/local/lib/python3.10/dist-packages (from sacremoses==0.0.53->argostranslate) (1.3.2)\n",
            "Requirement already satisfied: protobuf in /usr/local/lib/python3.10/dist-packages (from stanza==1.1.1->argostranslate) (3.20.3)\n",
            "Requirement already satisfied: requests in /usr/local/lib/python3.10/dist-packages (from stanza==1.1.1->argostranslate) (2.31.0)\n",
            "Requirement already satisfied: mutagen in /usr/local/lib/python3.10/dist-packages (from yt-dlp) (1.47.0)\n",
            "Requirement already satisfied: pycryptodomex in /usr/local/lib/python3.10/dist-packages (from yt-dlp) (3.20.0)\n",
            "Requirement already satisfied: certifi in /usr/local/lib/python3.10/dist-packages (from yt-dlp) (2024.2.2)\n",
            "Requirement already satisfied: urllib3<3,>=1.26.17 in /usr/local/lib/python3.10/dist-packages (from yt-dlp) (2.0.7)\n",
            "Requirement already satisfied: websockets>=12.0 in /usr/local/lib/python3.10/dist-packages (from yt-dlp) (12.0)\n",
            "Requirement already satisfied: brotli in /usr/local/lib/python3.10/dist-packages (from yt-dlp) (1.1.0)\n",
            "Requirement already satisfied: charset-normalizer<4,>=2 in /usr/local/lib/python3.10/dist-packages (from requests->stanza==1.1.1->argostranslate) (3.3.2)\n",
            "Requirement already satisfied: idna<4,>=2.5 in /usr/local/lib/python3.10/dist-packages (from requests->stanza==1.1.1->argostranslate) (3.6)\n",
            "Requirement already satisfied: filelock in /usr/local/lib/python3.10/dist-packages (from torch->openai-whisper) (3.13.1)\n",
            "Requirement already satisfied: typing-extensions in /usr/local/lib/python3.10/dist-packages (from torch->openai-whisper) (4.9.0)\n",
            "Requirement already satisfied: sympy in /usr/local/lib/python3.10/dist-packages (from torch->openai-whisper) (1.12)\n",
            "Requirement already satisfied: networkx in /usr/local/lib/python3.10/dist-packages (from torch->openai-whisper) (3.2.1)\n",
            "Requirement already satisfied: jinja2 in /usr/local/lib/python3.10/dist-packages (from torch->openai-whisper) (3.1.3)\n",
            "Requirement already satisfied: fsspec in /usr/local/lib/python3.10/dist-packages (from torch->openai-whisper) (2023.6.0)\n",
            "Requirement already satisfied: llvmlite<0.42,>=0.41.0dev0 in /usr/local/lib/python3.10/dist-packages (from numba->openai-whisper) (0.41.1)\n",
            "Requirement already satisfied: MarkupSafe>=2.0 in /usr/local/lib/python3.10/dist-packages (from jinja2->torch->openai-whisper) (2.1.5)\n",
            "Requirement already satisfied: mpmath>=0.19 in /usr/local/lib/python3.10/dist-packages (from sympy->torch->openai-whisper) (1.3.0)\n"
          ]
        }
      ]
    },
    {
      "cell_type": "code",
      "source": [
        "import argostranslate.package\n",
        "import argostranslate.translate\n",
        "import datetime\n",
        "import os\n",
        "import threading\n",
        "from queue import Queue\n",
        "import subprocess\n",
        "import whisper"
      ],
      "metadata": {
        "id": "fwxsjSzTMq8A"
      },
      "execution_count": 3,
      "outputs": []
    },
    {
      "cell_type": "markdown",
      "source": [
        "## **Set Up Language**"
      ],
      "metadata": {
        "id": "rboPSKLXBYoj"
      }
    },
    {
      "cell_type": "code",
      "source": [
        "from_code = \"ru\"\n",
        "to_code = \"en\"\n",
        "\n",
        "# Download and install Argos Translate package\n",
        "argostranslate.package.update_package_index()\n",
        "available_packages = argostranslate.package.get_available_packages()\n",
        "package_to_install = next(\n",
        "    filter(\n",
        "        lambda x: x.from_code == from_code and x.to_code == to_code, available_packages\n",
        "    )\n",
        ")\n",
        "argostranslate.package.install_from_path(package_to_install.download())"
      ],
      "metadata": {
        "id": "r5o9-yRQBH8q"
      },
      "execution_count": 4,
      "outputs": []
    },
    {
      "cell_type": "markdown",
      "source": [
        "## **Preparation Finished start Coding Below**"
      ],
      "metadata": {
        "id": "A3-_pif0Pjmj"
      }
    },
    {
      "cell_type": "code",
      "source": [
        "def download_video(url, output_path, num_threads='10000'):\n",
        "    command = [\n",
        "        \"yt-dlp\",\n",
        "        \"-N\", num_threads,\n",
        "        \"-f\", \"bestvideo[ext=mp4]+bestaudio[ext=m4a]/best[ext=mp4]/best\",  # Force .mp4 format\n",
        "        url,\n",
        "        \"-o\", output_path\n",
        "    ]\n",
        "    subprocess.run(command)\n",
        "    process = subprocess.Popen(command, stdout=subprocess.PIPE, stderr=subprocess.PIPE)\n",
        "    for line in process.stdout:\n",
        "        print(line.decode().strip())"
      ],
      "metadata": {
        "id": "TGlyceeCBLI0"
      },
      "execution_count": 5,
      "outputs": []
    },
    {
      "cell_type": "code",
      "source": [
        "def transcribe_audio(input_file_path):\n",
        "    # Define the command as a list of arguments\n",
        "    command = [\n",
        "        \"whisper\",\n",
        "        \"--language\", \"ru\",\n",
        "        \"--output_format\", \"vtt\",\n",
        "        \"--max_words_per_line\", \"8\",\n",
        "        \"--word_timestamps\", \"True\",\n",
        "        input_file_path\n",
        "    ]\n",
        "\n",
        "    # Use subprocess.Popen to execute the command and capture stdout and stderr\n",
        "    with subprocess.Popen(command, stdout=subprocess.PIPE, stderr=subprocess.PIPE, text=True) as process:\n",
        "        # Read and print stdout line by line\n",
        "        for line in process.stdout:\n",
        "            print(line.strip())\n",
        "        # Check if there are errors and print them\n",
        "        for line in process.stderr:\n",
        "            print(\"Error:\", line.strip())"
      ],
      "metadata": {
        "id": "yMOZLYlpODvc"
      },
      "execution_count": 6,
      "outputs": []
    },
    {
      "cell_type": "code",
      "execution_count": 7,
      "metadata": {
        "id": "cLA49RbPMm7m"
      },
      "outputs": [],
      "source": [
        "def translate_word(word):\n",
        "    try:\n",
        "        translation = argostranslate.translate.translate(word, \"ru\", \"en\")\n",
        "        return translation\n",
        "    except Exception as e:\n",
        "        print(f\"Error during translation of '{word}': {e}\")\n",
        "        return word\n",
        "\n",
        "def translate_line(line, index, output_queue):\n",
        "    # Handle lines that do not require translation directly\n",
        "    if '-->' in line or line.strip().isdigit() or not line.strip():\n",
        "        output_queue.put((index, line))\n",
        "    else:\n",
        "        # Translate the line word by word and combine\n",
        "        words = line.split()\n",
        "        translated_words = [translate_word(word) for word in words]\n",
        "        translated_line = ' '.join(translated_words)\n",
        "        # Format combined line with original and translated text\n",
        "        combined_line = line.strip() + '\\n'+ translated_line + '\\n'\n",
        "        output_queue.put((index, combined_line))\n",
        "\n",
        "def process_lines(lines):\n",
        "    output_queue = Queue()\n",
        "    threads = []\n",
        "\n",
        "    for index, line in enumerate(lines):\n",
        "        thread = threading.Thread(target=translate_line, args=(line, index, output_queue))\n",
        "        thread.start()\n",
        "        threads.append(thread)\n",
        "\n",
        "    for thread in threads:\n",
        "        thread.join()\n",
        "\n",
        "    # Collect and sort the results based on the original line order\n",
        "    translated_lines = [None] * len(lines)\n",
        "    while not output_queue.empty():\n",
        "        index, translation = output_queue.get()\n",
        "        translated_lines[index] = translation\n",
        "\n",
        "    return translated_lines\n",
        "\n",
        "def process_vtt_in_chunks(filepath, newfilepath, chunk_size=50):\n",
        "    base, ext = os.path.splitext(filepath)\n",
        "    with open(filepath, 'r', encoding='utf-8') as file:\n",
        "        lines = file.readlines()\n",
        "\n",
        "    with open(newfilepath, 'w', encoding='utf-8') as new_file:\n",
        "        for i in range(0, len(lines), chunk_size):\n",
        "            chunk = lines[i:i+chunk_size]\n",
        "            processed_lines = process_lines(chunk)\n",
        "            new_file.writelines(processed_lines)\n"
      ]
    },
    {
      "cell_type": "code",
      "source": [
        "def adjust_timing(lines):\n",
        "    for i in range(len(lines)-1):\n",
        "        if '-->' in lines[i] and '-->' in lines[i + 1]:\n",
        "            current_line_timing, current_line_text = lines[i].split('\\n', 1)\n",
        "            start_time_next_line, _ = lines[i + 1].split('\\n', 1)[0].split('-->', 1)\n",
        "            new_current_line = current_line_timing.split('-->', 1)[0] + '--> ' + start_time_next_line + '\\n' + current_line_text\n",
        "            lines[i] = new_current_line\n",
        "    return lines\n",
        "\n",
        "def adjust_vtt_timing(input_filepath, output_filepath):\n",
        "    with open(input_filepath, 'r', encoding='utf-8') as input_file:\n",
        "        content = input_file.read()\n",
        "    lines = content.split('\\n\\n')\n",
        "    new_lines = adjust_timing(lines)\n",
        "    new_content = '\\n\\n'.join(new_lines)\n",
        "    with open(output_filepath, 'w', encoding='utf-8') as output_file:\n",
        "        output_file.write(new_content)"
      ],
      "metadata": {
        "id": "p7qQ-QwFLnhQ"
      },
      "execution_count": 8,
      "outputs": []
    },
    {
      "cell_type": "markdown",
      "source": [
        "# **Coding Finished Now run it**"
      ],
      "metadata": {
        "id": "7Wj-FQzSSlBc"
      }
    },
    {
      "cell_type": "code",
      "source": [
        "def download(url):\n",
        "    timestamp = datetime.datetime.now().strftime(\"%Y%m%d%H%M%S\")\n",
        "\n",
        "    mp4_output = f\"{timestamp}.mp4\"\n",
        "    vtt_output = f\"{timestamp}.vtt\"\n",
        "    toadjust_output = f\"toadjust_{timestamp}.vtt\"\n",
        "    adjusted_output = f\"new_{timestamp}.vtt\"\n",
        "    output_video_path = f\"final_{timestamp}.mp4\"\n",
        "\n",
        "    ffmpeg_command = [\n",
        "        \"ffmpeg\",\n",
        "        \"-i\", mp4_output,\n",
        "        \"-i\", adjusted_output,\n",
        "        \"-c\", \"copy\",\n",
        "        \"-c:s\", \"mov_text\",\n",
        "        output_video_path\n",
        "    ]\n",
        "    download_video(url,mp4_output)\n",
        "    transcribe_audio(mp4_output)\n",
        "    process_vtt_in_chunks(vtt_output,toadjust_output)\n",
        "    adjust_vtt_timing(toadjust_output,adjusted_output)\n",
        "    subprocess.run(ffmpeg_command)\n",
        "    !cp \"$output_video_path\" \"/content/gdrive/MyDrive/Videos/\"\n"
      ],
      "metadata": {
        "id": "-HNNWyvrCX01"
      },
      "execution_count": 13,
      "outputs": []
    },
    {
      "cell_type": "code",
      "source": [
        "download(\"https://v8-dtln.1internet.tv/video/multibitrate/video/2024/02/08/f07350ed-9645-4539-a884-86c39d2d0b30_HD-news-2024_02_08-16_37_16_,350,950,3800,8000,.mp4.urlset/master.m3u8\")"
      ],
      "metadata": {
        "colab": {
          "base_uri": "https://localhost:8080/"
        },
        "id": "Xq1NSFKWS8-q",
        "outputId": "283393de-b46e-4622-fe16-bb5cf9e73070"
      },
      "execution_count": 14,
      "outputs": [
        {
          "output_type": "stream",
          "name": "stdout",
          "text": [
            "[generic] Extracting URL: https://v8-dtln.1internet.tv/video/multibitrate/video/2024/02/08/f07350ed-9645-4539-a884-86c39d2d...4.urlset/master.m3u8\n",
            "[generic] master: Downloading webpage\n",
            "[generic] master: Downloading m3u8 information\n",
            "[generic] master: Checking m3u8 live status\n",
            "[info] master: Downloading 1 format(s): 8136\n",
            "[download] 20240210092827.mp4 has already been downloaded\n",
            "[download] 100% of  377.75MiB\n",
            "[00:00.000 --> 00:03.520]  Анастасия Чернышева, Владислав Вильчик.\n",
            "[00:04.940 --> 00:07.460]  Ну что же, вот и время лидеров пришло\n",
            "[00:07.460 --> 00:10.140]  продемонстрировать свою произвольную программу\n",
            "[00:10.140 --> 00:13.960]  на льду заключительный соревновательный номер этого турнира.\n",
            "[00:14.420 --> 00:18.640]  Анастасия Чернышева и Владислав Вильчик со своей произвольной программой,\n",
            "[00:18.720 --> 00:19.880]  как и в танцах на льду.\n",
            "[00:20.500 --> 00:23.940]  Заключительное музыкальное произведение — это призрак оперы.\n",
            "[00:30.000 --> 00:41.240]  ИНТРИГУЮЩАЯ МУЗЫКА\n",
            "[00:41.240 --> 00:42.440]  АПЛОДИСМЕНТЫ\n",
            "[00:42.440 --> 00:51.920]  АПЛОДИСМЕНТЫ\n",
            "[01:12.440 --> 01:17.440]  АПЛОДИСМЕНТЫ\n",
            "[01:20.980 --> 01:22.440]  АПЛОДИСМЕНТЫ\n",
            "[01:24.760 --> 01:27.440]  АПЛОДИСМЕНТЫ\n",
            "[01:34.300 --> 01:38.660]  АПЛОДИСМЕНТЫ\n",
            "[01:39.300 --> 01:40.920]  АПЛОДИСМЕНТЫ\n",
            "[01:48.300 --> 01:51.680]  АПЛОДИСМЕНТЫ\n",
            "[01:51.680 --> 02:01.900]  ИНТРИГУЮЩАЯ МУЗЫКА\n",
            "[02:01.900 --> 02:01.900]  АПЛОДИСМЕНТЫ\n",
            "[02:03.720 --> 02:12.000]  ИНТРИГУЮЩАЯ МУЗЫКА\n",
            "[02:12.000 --> 02:14.360]  ИНТРИГУЮЩАЯ МУЗЫКА\n",
            "[02:14.360 --> 02:23.440]  ИНТРИГУЮЩАЯ МУЗЫКА\n",
            "[02:24.360 --> 02:28.860]  ИНТРИГУЮЩАЯ МУЗЫКА\n",
            "[02:28.860 --> 02:48.360]  ИНТРИГУЮЩАЯ МУЗЫКА\n",
            "[02:48.360 --> 02:50.640]  ИНТРИГУЮЩАЯ МУЗЫКА\n",
            "[02:50.640 --> 03:07.760]  ИНТРИГУЮЩАЯ МУЗЫКА\n",
            "[03:07.760 --> 03:08.300]  ИНТРИГУЮЩАЯ МУЗЫКА\n",
            "[03:08.300 --> 03:26.780]  ИНТРИГУЮЩАЯ МУЗЫКА\n",
            "[03:26.780 --> 03:40.060]  ИНТРИГУЮЩАЯ МУЗЫКА\n",
            "[03:40.060 --> 03:45.900]  ИНТРИГУЮЩАЯ МУЗЫКА\n",
            "[03:50.060 --> 03:51.720]  ИНТРИГУЮЩАЯ МУЗЫКА\n",
            "[03:51.720 --> 04:15.800]  ИНТРИГУЮЩАЯ МУЗЫКА\n",
            "[04:15.800 --> 04:18.760]  ИНТРИГУЮЩАЯ МУЗЫКА\n",
            "[04:18.760 --> 04:28.060]  ИНТРИГУЮЩАЯ МУЗЫКА\n",
            "[04:28.760 --> 04:30.340]  ИНТРИГУЮЩАЯ МУЗЫКА\n",
            "[04:30.340 --> 04:46.780]  ИНТРИГУЮЩАЯ МУЗЫКА\n",
            "[04:46.780 --> 04:51.560]  ИНТРИГУЮЩАЯ МУЗЫКА\n",
            "[04:51.560 --> 05:05.420]  ИНТРИГУЮЩАЯ МУЗЫКА\n",
            "[05:05.420 --> 05:10.960]  ИНТРИГУЮЩАЯ МУЗЫКА\n",
            "[05:22.300 --> 05:27.720]  ИНТРИГУЮЩАЯ МУЗЫКА\n",
            "[05:27.720 --> 05:30.340]  ИНТРИГУЮЩАЯ МУЗЫКА\n",
            "[05:30.340 --> 05:40.520]  ИНТРИГУЮЩАЯ МУЗЫКА\n",
            "[05:40.520 --> 05:48.400]  ИНТРИГУЮЩАЯ МУЗЫКА\n",
            "[05:48.400 --> 06:00.660]  ИНТРИГУЮЩАЯ МУЗЫКА\n",
            "[06:00.660 --> 06:06.000]  ИНТРИГУЮЩАЯ МУЗЫКА\n",
            "[06:06.000 --> 06:09.820]  ИНТРИГУЮЩАЯ МУЗЫКА\n",
            "[06:16.260 --> 06:20.100]  ИНТРИГУЮЩАЯ МУЗЫКА\n",
            "[06:20.100 --> 06:22.060]  ИНТРИГУЮЩАЯ МУЗЫКА\n"
          ]
        }
      ]
    }
  ]
}