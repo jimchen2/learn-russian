{
  "nbformat": 4,
  "nbformat_minor": 0,
  "metadata": {
    "colab": {
      "provenance": [],
      "gpuType": "T4"
    },
    "kernelspec": {
      "name": "python3",
      "display_name": "Python 3"
    },
    "language_info": {
      "name": "python"
    },
    "accelerator": "GPU"
  },
  "cells": [
    {
      "cell_type": "code",
      "source": [
        "# Install required packages\n",
        "!pip install git+https://github.com/openai/whisper.git\n",
        "!pip install yt-dlp\n",
        "!pip install ffmpeg-python\n",
        "import whisper\n",
        "import subprocess"
      ],
      "metadata": {
        "colab": {
          "base_uri": "https://localhost:8080/"
        },
        "id": "T-_m5EUFeiVO",
        "outputId": "f0834bab-528e-4ceb-cacb-d78da2e83470"
      },
      "execution_count": 4,
      "outputs": [
        {
          "output_type": "stream",
          "name": "stdout",
          "text": [
            "Collecting git+https://github.com/openai/whisper.git\n",
            "  Cloning https://github.com/openai/whisper.git to /tmp/pip-req-build-qmk0tpni\n",
            "  Running command git clone --filter=blob:none --quiet https://github.com/openai/whisper.git /tmp/pip-req-build-qmk0tpni\n",
            "  Resolved https://github.com/openai/whisper.git to commit 271445b2f24f00f8175c4fb7ae91876f7451dfc1\n",
            "  Installing build dependencies ... \u001b[?25l\u001b[?25hdone\n",
            "  Getting requirements to build wheel ... \u001b[?25l\u001b[?25hdone\n",
            "  Preparing metadata (pyproject.toml) ... \u001b[?25l\u001b[?25hdone\n",
            "Requirement already satisfied: numba in /usr/local/lib/python3.10/dist-packages (from openai-whisper==20240930) (0.60.0)\n",
            "Requirement already satisfied: numpy in /usr/local/lib/python3.10/dist-packages (from openai-whisper==20240930) (1.26.4)\n",
            "Requirement already satisfied: torch in /usr/local/lib/python3.10/dist-packages (from openai-whisper==20240930) (2.5.0+cu121)\n",
            "Requirement already satisfied: tqdm in /usr/local/lib/python3.10/dist-packages (from openai-whisper==20240930) (4.66.6)\n",
            "Requirement already satisfied: more-itertools in /usr/local/lib/python3.10/dist-packages (from openai-whisper==20240930) (10.5.0)\n",
            "Requirement already satisfied: tiktoken in /usr/local/lib/python3.10/dist-packages (from openai-whisper==20240930) (0.8.0)\n",
            "Requirement already satisfied: triton>=2.0.0 in /usr/local/lib/python3.10/dist-packages (from openai-whisper==20240930) (3.1.0)\n",
            "Requirement already satisfied: filelock in /usr/local/lib/python3.10/dist-packages (from triton>=2.0.0->openai-whisper==20240930) (3.16.1)\n",
            "Requirement already satisfied: llvmlite<0.44,>=0.43.0dev0 in /usr/local/lib/python3.10/dist-packages (from numba->openai-whisper==20240930) (0.43.0)\n",
            "Requirement already satisfied: regex>=2022.1.18 in /usr/local/lib/python3.10/dist-packages (from tiktoken->openai-whisper==20240930) (2024.9.11)\n",
            "Requirement already satisfied: requests>=2.26.0 in /usr/local/lib/python3.10/dist-packages (from tiktoken->openai-whisper==20240930) (2.32.3)\n",
            "Requirement already satisfied: typing-extensions>=4.8.0 in /usr/local/lib/python3.10/dist-packages (from torch->openai-whisper==20240930) (4.12.2)\n",
            "Requirement already satisfied: networkx in /usr/local/lib/python3.10/dist-packages (from torch->openai-whisper==20240930) (3.4.2)\n",
            "Requirement already satisfied: jinja2 in /usr/local/lib/python3.10/dist-packages (from torch->openai-whisper==20240930) (3.1.4)\n",
            "Requirement already satisfied: fsspec in /usr/local/lib/python3.10/dist-packages (from torch->openai-whisper==20240930) (2024.10.0)\n",
            "Requirement already satisfied: sympy==1.13.1 in /usr/local/lib/python3.10/dist-packages (from torch->openai-whisper==20240930) (1.13.1)\n",
            "Requirement already satisfied: mpmath<1.4,>=1.1.0 in /usr/local/lib/python3.10/dist-packages (from sympy==1.13.1->torch->openai-whisper==20240930) (1.3.0)\n",
            "Requirement already satisfied: charset-normalizer<4,>=2 in /usr/local/lib/python3.10/dist-packages (from requests>=2.26.0->tiktoken->openai-whisper==20240930) (3.4.0)\n",
            "Requirement already satisfied: idna<4,>=2.5 in /usr/local/lib/python3.10/dist-packages (from requests>=2.26.0->tiktoken->openai-whisper==20240930) (3.10)\n",
            "Requirement already satisfied: urllib3<3,>=1.21.1 in /usr/local/lib/python3.10/dist-packages (from requests>=2.26.0->tiktoken->openai-whisper==20240930) (2.2.3)\n",
            "Requirement already satisfied: certifi>=2017.4.17 in /usr/local/lib/python3.10/dist-packages (from requests>=2.26.0->tiktoken->openai-whisper==20240930) (2024.8.30)\n",
            "Requirement already satisfied: MarkupSafe>=2.0 in /usr/local/lib/python3.10/dist-packages (from jinja2->torch->openai-whisper==20240930) (3.0.2)\n",
            "Requirement already satisfied: yt-dlp in /usr/local/lib/python3.10/dist-packages (2024.11.4)\n",
            "Requirement already satisfied: ffmpeg-python in /usr/local/lib/python3.10/dist-packages (0.2.0)\n",
            "Requirement already satisfied: future in /usr/local/lib/python3.10/dist-packages (from ffmpeg-python) (1.0.0)\n"
          ]
        }
      ]
    },
    {
      "cell_type": "code",
      "source": [
        "url=\"https://v2-dtln.1internet.tv/video/multibitrate/video/2024/11/06/7585240b-5642-44cd-97f0-09d8aa518d8f_HD-news-2024_11_07-16_12_10_,350,950,3800,8000,.mp4.urlset/master.m3u8\""
      ],
      "metadata": {
        "id": "xNCpAKxIexgE"
      },
      "execution_count": null,
      "outputs": []
    },
    {
      "cell_type": "code",
      "source": [
        "subprocess.run([\n",
        "    'yt-dlp',\n",
        "    '-N', '100',\n",
        "    '-x',\n",
        "    '-o', 'audio.mp3',\n",
        "    url\n",
        "])"
      ],
      "metadata": {
        "id": "zodi0G9fgUNW"
      },
      "execution_count": null,
      "outputs": []
    },
    {
      "cell_type": "code",
      "source": [
        "model = whisper.load_model(\"medium\")\n",
        "result = model.transcribe(\"audio.mp3.m4a\", language=\"ru\")"
      ],
      "metadata": {
        "colab": {
          "base_uri": "https://localhost:8080/"
        },
        "id": "T2XZ_bHMe-uJ",
        "outputId": "0be58fd7-152b-4d81-ff7a-da3f6beb20d7"
      },
      "execution_count": 14,
      "outputs": [
        {
          "output_type": "stream",
          "name": "stderr",
          "text": [
            "/usr/local/lib/python3.10/dist-packages/whisper/__init__.py:150: FutureWarning: You are using `torch.load` with `weights_only=False` (the current default value), which uses the default pickle module implicitly. It is possible to construct malicious pickle data which will execute arbitrary code during unpickling (See https://github.com/pytorch/pytorch/blob/main/SECURITY.md#untrusted-models for more details). In a future release, the default value for `weights_only` will be flipped to `True`. This limits the functions that could be executed during unpickling. Arbitrary objects will no longer be allowed to be loaded via this mode unless they are explicitly allowlisted by the user via `torch.serialization.add_safe_globals`. We recommend you start setting `weights_only=True` for any use case where you don't have full control of the loaded file. Please open an issue on GitHub for any issues related to this experimental feature.\n",
            "  checkpoint = torch.load(fp, map_location=device)\n"
          ]
        },
        {
          "output_type": "stream",
          "name": "stdout",
          "text": [
            " Елена Костылева, Московская область. Ну что, заключительный стартовый номер на сегодня у еще одной представительницы Академии Евгения Плющенко, Елены Костылевой, которая уже выходит на лед и готова представить публике свою короткую программу под произведение в исполнении Барбары Праби. Вуаля! Катается эта фигуристка в текущем сезоне. Елена Костылева, Московская область. Елена Костылева, Московская область. Вот, вот, вот, вот я и я. Но вот и я, и я здесь, и я в ночь, и я в тьму. Но вот и я, и мы тоже в тьме. Посмотри на меня, и мои глаза, и мои ноги. Все, что я здесь, это мое сердце, это мое тело. Но вот и я, и я здесь, и я в тьме. Вот и я, и я в тьме. Вот и я, и я здесь, и я в тьме. Но вот и я, и я здесь, и я в тьме. Но вот и я, и я в тьме. Вот и я, и я в тьме. Вот и я, и я в тьме. Елена Костилева стала победительницей турнира памяти олимпийского чемпиона Сергея Гринькова. Этот турнир состоялся в спортивном комплексе Ледовой в ЦСКА в конце сентября, то есть уже примерно полтора месяца назад. Ну и сегодня наконец-то мы видим уже Ина. Этапе всероссийских соревнований Красноярье эту талантливую фигуристку. Обратите внимание на прекрасную технику прыжков, на очень плотную крутку. Я все-таки надеюсь, что в произвольной программе Лена покажет свои четверные прыжки, но сейчас она нам показывает, что способна безошибочно исполнять и короткую программу в том числе. Ну что, становится все интереснее, все плотнее становятся результаты в верхней части турнирной таблицы и понятно уже сейчас, что Лена очевидно совершенно займет позицию в сильнейшей разминке. Осталось только понять, на каком месте она будет находиться. Это значит, что шестерка в сильнейшей разминке на произвольных программах будет не просто огненной, будет пламенной и феерической. Смотрите, там и Алена Принева, и Полина Тихонова, и Мария Котова. Ну и соответственно, текущие лидеры Алиса Двоеглазова и Милана Лебедева. Это будет зрелище, которое ни в коем случае нельзя пропустить. Личные предсчитатели таланта Ирины Костлевой тоже присутствуют в Красноярске, как вы видите вот по этим плакатам. Довольно сама спортсменка улыбается Икатериной Митрофановой. Сдержанно. Рядом с Иленой Костлевой находится по окончании проката ученицы Евгений Плющенко. Итак, оценки Илени Костлевой. 71,74 балла, примерно бал разницы между двумя фигуристками, которые преодолели эту отметку в 70 баллов по итогам короткой программы. Алиса Двоеглазова на лидирующей позиции, сразу вслед за ней Елена Костлева.\n"
          ]
        }
      ]
    },
    {
      "cell_type": "code",
      "source": [
        "sentences = result[\"text\"].split('.')\n",
        "for sentence in sentences:\n",
        "    sentence = sentence.strip()\n",
        "    if sentence:\n",
        "        print(sentence)"
      ],
      "metadata": {
        "colab": {
          "base_uri": "https://localhost:8080/"
        },
        "id": "T8J3jVsugfRc",
        "outputId": "01b71dff-1d62-44e6-bb48-0cf399d236d5"
      },
      "execution_count": 15,
      "outputs": [
        {
          "output_type": "stream",
          "name": "stdout",
          "text": [
            "Елена Костылева, Московская область\n",
            "Ну что, заключительный стартовый номер на сегодня у еще одной представительницы Академии Евгения Плющенко, Елены Костылевой, которая уже выходит на лед и готова представить публике свою короткую программу под произведение в исполнении Барбары Праби\n",
            "Вуаля! Катается эта фигуристка в текущем сезоне\n",
            "Елена Костылева, Московская область\n",
            "Елена Костылева, Московская область\n",
            "Вот, вот, вот, вот я и я\n",
            "Но вот и я, и я здесь, и я в ночь, и я в тьму\n",
            "Но вот и я, и мы тоже в тьме\n",
            "Посмотри на меня, и мои глаза, и мои ноги\n",
            "Все, что я здесь, это мое сердце, это мое тело\n",
            "Но вот и я, и я здесь, и я в тьме\n",
            "Вот и я, и я в тьме\n",
            "Вот и я, и я здесь, и я в тьме\n",
            "Но вот и я, и я здесь, и я в тьме\n",
            "Но вот и я, и я в тьме\n",
            "Вот и я, и я в тьме\n",
            "Вот и я, и я в тьме\n",
            "Елена Костилева стала победительницей турнира памяти олимпийского чемпиона Сергея Гринькова\n",
            "Этот турнир состоялся в спортивном комплексе Ледовой в ЦСКА в конце сентября, то есть уже примерно полтора месяца назад\n",
            "Ну и сегодня наконец-то мы видим уже Ина\n",
            "Этапе всероссийских соревнований Красноярье эту талантливую фигуристку\n",
            "Обратите внимание на прекрасную технику прыжков, на очень плотную крутку\n",
            "Я все-таки надеюсь, что в произвольной программе Лена покажет свои четверные прыжки, но сейчас она нам показывает, что способна безошибочно исполнять и короткую программу в том числе\n",
            "Ну что, становится все интереснее, все плотнее становятся результаты в верхней части турнирной таблицы и понятно уже сейчас, что Лена очевидно совершенно займет позицию в сильнейшей разминке\n",
            "Осталось только понять, на каком месте она будет находиться\n",
            "Это значит, что шестерка в сильнейшей разминке на произвольных программах будет не просто огненной, будет пламенной и феерической\n",
            "Смотрите, там и Алена Принева, и Полина Тихонова, и Мария Котова\n",
            "Ну и соответственно, текущие лидеры Алиса Двоеглазова и Милана Лебедева\n",
            "Это будет зрелище, которое ни в коем случае нельзя пропустить\n",
            "Личные предсчитатели таланта Ирины Костлевой тоже присутствуют в Красноярске, как вы видите вот по этим плакатам\n",
            "Довольно сама спортсменка улыбается Икатериной Митрофановой\n",
            "Сдержанно\n",
            "Рядом с Иленой Костлевой находится по окончании проката ученицы Евгений Плющенко\n",
            "Итак, оценки Илени Костлевой\n",
            "71,74 балла, примерно бал разницы между двумя фигуристками, которые преодолели эту отметку в 70 баллов по итогам короткой программы\n",
            "Алиса Двоеглазова на лидирующей позиции, сразу вслед за ней Елена Костлева\n"
          ]
        }
      ]
    },
    {
      "cell_type": "code",
      "source": [],
      "metadata": {
        "id": "5daKEdcdhCGl"
      },
      "execution_count": null,
      "outputs": []
    }
  ]
}