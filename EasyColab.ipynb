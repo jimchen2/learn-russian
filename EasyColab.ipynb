{
 "cells": [
  {
   "cell_type": "code",
   "execution_count": null,
   "metadata": {
    "colab": {
     "base_uri": "https://localhost:8080/"
    },
    "id": "T-_m5EUFeiVO",
    "outputId": "f0834bab-528e-4ceb-cacb-d78da2e83470"
   },
   "outputs": [],
   "source": [
    "# Install required packages\n",
    "!pip install git+https://github.com/openai/whisper.git\n",
    "!pip install yt-dlp\n",
    "!pip install ffmpeg-python\n",
    "import whisper\n",
    "import subprocess"
   ]
  },
  {
   "cell_type": "code",
   "execution_count": null,
   "metadata": {
    "id": "xNCpAKxIexgE"
   },
   "outputs": [],
   "source": [
    "url=\"https://v2-dtln.1internet.tv/video/multibitrate/video/2024/11/06/7585240b-5642-44cd-97f0-09d8aa518d8f_HD-news-2024_11_07-16_12_10_,350,950,3800,8000,.mp4.urlset/master.m3u8\""
   ]
  },
  {
   "cell_type": "code",
   "execution_count": null,
   "metadata": {
    "id": "zodi0G9fgUNW"
   },
   "outputs": [],
   "source": [
    "subprocess.run([\n",
    "    'yt-dlp',\n",
    "    '-N', '100',\n",
    "    '-x',\n",
    "    '-o', 'audio.mp3',\n",
    "    url\n",
    "])"
   ]
  },
  {
   "cell_type": "code",
   "execution_count": null,
   "metadata": {
    "colab": {
     "base_uri": "https://localhost:8080/"
    },
    "id": "T2XZ_bHMe-uJ",
    "outputId": "0be58fd7-152b-4d81-ff7a-da3f6beb20d7"
   },
   "outputs": [],
   "source": [
    "model = whisper.load_model(\"medium\")\n",
    "result = model.transcribe(\"audio.mp3.m4a\", language=\"ru\")\n",
    "print(result[\"text\"])"
   ]
  },
  {
   "cell_type": "code",
   "execution_count": null,
   "metadata": {
    "id": "T8J3jVsugfRc"
   },
   "outputs": [],
   "source": []
  }
 ],
 "metadata": {
  "accelerator": "GPU",
  "colab": {
   "gpuType": "T4",
   "provenance": []
  },
  "kernelspec": {
   "display_name": "Python 3",
   "name": "python3"
  },
  "language_info": {
   "name": "python"
  }
 },
 "nbformat": 4,
 "nbformat_minor": 0
}
